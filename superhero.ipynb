{
 "cells": [
  {
   "cell_type": "code",
   "execution_count": 1,
   "metadata": {},
   "outputs": [
    {
     "name": "stdout",
     "output_type": "stream",
     "text": [
      "'Самый умный - Thanos, его интеллект равен 100'\n"
     ]
    }
   ],
   "source": [
    "from pprint import pprint\n",
    "import requests\n",
    "\n",
    "\n",
    "\n",
    "\n",
    "class Super_Hero:\n",
    "    url = ' https://superheroapi.com/api/'\n",
    "    access_token = '2619421814940190'\n",
    "    \n",
    "    def __init__(self, name):\n",
    "        self.name = name\n",
    "        self.id = ''\n",
    "        self.intelligence = ''\n",
    "    def get_id(self):\n",
    "        self.id = requests.get(self.url + self.access_token + '/search/' + self.name).json()['results'][0]['id']\n",
    "        return self.id\n",
    "    def get_intelligence(self):\n",
    "        if not self.id:\n",
    "            self.get_id()\n",
    "        self.intelligence = requests.get(self.url + self.access_token + '/' + self.id + '/powerstats').json()['intelligence']\n",
    "        return self.intelligence\n",
    "def most_intelligence(heros):\n",
    "    for hero in heros:\n",
    "        if not hero.intelligence:\n",
    "            hero.get_intelligence()\n",
    "    sorted_list_of_intelligence = sorted(heros, key=lambda hero: hero.intelligence)\n",
    "    return sorted_list_of_intelligence[0]\n",
    "\n",
    "\n",
    "\n",
    "\n",
    "\n",
    "Super_Heros = [Super_Hero('Hulk'),\n",
    "                   Super_Hero('Captain America'),\n",
    "                   Super_Hero('Thanos')]\n",
    "winner = most_intelligence(Super_Heros)\n",
    "pprint(f\"Самый умный - {winner.name}, его интеллект равен {winner.intelligence}\")\n",
    "\n"
   ]
  }
 ],
 "metadata": {
  "interpreter": {
   "hash": "31f2aee4e71d21fbe5cf8b01ff0e069b9275f58929596ceb00d14d90e3e16cd6"
  },
  "kernelspec": {
   "display_name": "Python 3.8.9 64-bit",
   "language": "python",
   "name": "python3"
  },
  "language_info": {
   "codemirror_mode": {
    "name": "ipython",
    "version": 3
   },
   "file_extension": ".py",
   "mimetype": "text/x-python",
   "name": "python",
   "nbconvert_exporter": "python",
   "pygments_lexer": "ipython3",
   "version": "3.8.9"
  },
  "orig_nbformat": 4
 },
 "nbformat": 4,
 "nbformat_minor": 2
}
